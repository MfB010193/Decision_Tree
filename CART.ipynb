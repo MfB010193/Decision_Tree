{
 "cells": [
  {
   "cell_type": "markdown",
   "id": "347c2296",
   "metadata": {},
   "source": [
    "# Implmenting CART for classificatioon"
   ]
  },
  {
   "cell_type": "code",
   "execution_count": 3,
   "id": "760858ce",
   "metadata": {},
   "outputs": [],
   "source": [
    "import numpy as np     # importing the necessary libraries \n",
    "import pandas as pd \n",
    "import matplotlib.pyplot as plt\n",
    "from sklearn.tree import DecisionTreeClassifier\n",
    "from sklearn.datasets import load_iris\n",
    "from sklearn.model_selection import train_test_split\n",
    "from sklearn import tree\n",
    "from sklearn.metrics import classification_report, accuracy_score"
   ]
  },
  {
   "cell_type": "code",
   "execution_count": 6,
   "id": "89fff6a3",
   "metadata": {},
   "outputs": [],
   "source": [
    "iris = load_iris()     # load the iris data\n",
    "x = iris.data\n",
    "y = iris.target\n",
    "\n",
    "# converting in to data frame to compute easly\n",
    "iris_df = pd.DataFrame(data = iris.data, columns = iris.feature_names)\n",
    "iris_df['species'] = iris.target_names[iris.target]  # adding a new column of name species"
   ]
  },
  {
   "cell_type": "code",
   "execution_count": 8,
   "id": "3d73288f",
   "metadata": {},
   "outputs": [],
   "source": [
    "# now split the data in to train and test \n",
    "x_train, x_test, y_train,y_test = train_test_split(x, y, test_size= 0.3, random_state = 42)"
   ]
  },
  {
   "cell_type": "code",
   "execution_count": null,
   "id": "1123c49b",
   "metadata": {},
   "outputs": [],
   "source": []
  }
 ],
 "metadata": {
  "kernelspec": {
   "display_name": "Python 3 (ipykernel)",
   "language": "python",
   "name": "python3"
  },
  "language_info": {
   "codemirror_mode": {
    "name": "ipython",
    "version": 3
   },
   "file_extension": ".py",
   "mimetype": "text/x-python",
   "name": "python",
   "nbconvert_exporter": "python",
   "pygments_lexer": "ipython3",
   "version": "3.10.9"
  }
 },
 "nbformat": 4,
 "nbformat_minor": 5
}
