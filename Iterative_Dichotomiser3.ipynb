{
 "cells": [
  {
   "cell_type": "markdown",
   "id": "0d615f20",
   "metadata": {},
   "source": [
    "# Iterative Dichotomisor"
   ]
  },
  {
   "cell_type": "code",
   "execution_count": 2,
   "id": "37ea528b",
   "metadata": {},
   "outputs": [],
   "source": [
    "class Node:  # define node calss \n",
    "    def __init__(self, feature, values, results, true_branch, fales_branch):\n",
    "        self.feature = feature\n",
    "        self.values = values\n",
    "        self.results = results\n",
    "        self.true_branch = true_branch\n",
    "        self.fales_branch = false_branch\n"
   ]
  },
  {
   "cell_type": "code",
   "execution_count": null,
   "id": "2e5d1993",
   "metadata": {},
   "outputs": [],
   "source": [
    "def Entropy(data):  # calculating entropy\n",
    "    counts = np.bincount(data)\n",
    "    probabilities = counts/len(data)\n",
    "    entropy = -np.sum([p* np.log2(p) for p in probabilities if p >0])\n",
    "    return entropy\n",
    "    "
   ]
  }
 ],
 "metadata": {
  "kernelspec": {
   "display_name": "Python 3 (ipykernel)",
   "language": "python",
   "name": "python3"
  },
  "language_info": {
   "codemirror_mode": {
    "name": "ipython",
    "version": 3
   },
   "file_extension": ".py",
   "mimetype": "text/x-python",
   "name": "python",
   "nbconvert_exporter": "python",
   "pygments_lexer": "ipython3",
   "version": "3.10.9"
  }
 },
 "nbformat": 4,
 "nbformat_minor": 5
}
