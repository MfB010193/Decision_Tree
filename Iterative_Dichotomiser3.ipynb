{
 "cells": [
  {
   "cell_type": "markdown",
   "id": "0d615f20",
   "metadata": {},
   "source": [
    "# Iterative Dichotomiser"
   ]
  },
  {
   "cell_type": "code",
   "execution_count": 1,
   "id": "5c0df9a9",
   "metadata": {},
   "outputs": [],
   "source": [
    "from collections import Counter\n",
    "import numpy as np"
   ]
  },
  {
   "cell_type": "code",
   "execution_count": 2,
   "id": "37ea528b",
   "metadata": {},
   "outputs": [],
   "source": [
    "class Node:  # define node calss \n",
    "    def __init__(self, feature, values, results, true_branch, fales_branch):\n",
    "        self.feature = feature\n",
    "        self.values = values\n",
    "        self.results = results\n",
    "        self.true_branch = true_branch\n",
    "        self.fales_branch = false_branch\n"
   ]
  },
  {
   "cell_type": "code",
   "execution_count": 3,
   "id": "2e5d1993",
   "metadata": {},
   "outputs": [],
   "source": [
    "def Entropy(data):  # calculating entropy\n",
    "    counts = np.bincount(data)\n",
    "    probabilities = counts/len(data)\n",
    "    entropy = -np.sum([p* np.log2(p) for p in probabilities if p >0])\n",
    "    return entropy\n",
    "    "
   ]
  },
  {
   "cell_type": "code",
   "execution_count": 4,
   "id": "2b18e5e9",
   "metadata": {},
   "outputs": [],
   "source": [
    "def split_data(X, y, feature, value):  # Spliting data function\n",
    "    true_indices = np.where(X[:,feature]<=value)[0]\n",
    "    false_indices = np.where(X[:,feature]>value)[0]\n",
    "    true_X, true_y = X[true_indices], y[true_indices]\n",
    "    false_X, false_y = X[false_indices], y[false_indices]\n",
    "    return true_X, true_y, false_X, false_y"
   ]
  },
  {
   "cell_type": "code",
   "execution_count": 5,
   "id": "56ad0b46",
   "metadata": {},
   "outputs": [],
   "source": [
    "def build_tree(X,y): # Building the tree function\n",
    "    if len(set(y)==1):\n",
    "        return Node(results =y[0])\n",
    "    best_gain = 0\n",
    "    best_criteria =None\n",
    "    best_sets = None\n",
    "    n_features = X.shape[1]\n",
    "    current_entropy = entropy(y)\n",
    "    \n",
    "    for  feature in range(n_features):\n",
    "        feature_values = set(X[:,feature])\n",
    "    for value in featuree_value:\n",
    "        true_X, true_y, false_X, flase_y = split_data(X,y, feature, value)\n",
    "        true_entropy = entropy(true_y)\n",
    "        false_entropy  = entropy(false_y)\n",
    "        p = len(true_y)/len(y)\n",
    "        gain = current_entropy - p* true_entropy - (1-p)* false_entropy\n",
    "        \n",
    "        if gain > best_gain:\n",
    "            gain = best_gain\n",
    "            best_sets = (true_X, true_y, false_X, flase_y)\n",
    "            best_criteria = (feature, value)\n",
    "            \n",
    "        if best_gain >0:\n",
    "            true_branch = build_tree(best_sets[0],best_sets[1])\n",
    "            false_branch = build_tree(best_sets[2], best_sets[3])\n",
    "            return Node( feature = best_criteria[0], value = best_criteria[1], true_branch= true_branch, false_branch = flase_branch)\n",
    "        return Node(results = y[0])\n",
    "        \n",
    "    \n",
    "    "
   ]
  },
  {
   "cell_type": "code",
   "execution_count": 6,
   "id": "aff119ac",
   "metadata": {},
   "outputs": [],
   "source": [
    "def Predict(tree, sample):\n",
    "    if tree.results is not None:\n",
    "        return tree.results\n",
    "    else:\n",
    "        branch = tree.false_branch\n",
    "        if sample[tree.feature]<=tree.value:\n",
    "            branch = tree.true_branch\n",
    "        return predict(branch ,sample)"
   ]
  },
  {
   "cell_type": "code",
   "execution_count": null,
   "id": "555f6a95",
   "metadata": {},
   "outputs": [],
   "source": []
  }
 ],
 "metadata": {
  "kernelspec": {
   "display_name": "Python 3 (ipykernel)",
   "language": "python",
   "name": "python3"
  },
  "language_info": {
   "codemirror_mode": {
    "name": "ipython",
    "version": 3
   },
   "file_extension": ".py",
   "mimetype": "text/x-python",
   "name": "python",
   "nbconvert_exporter": "python",
   "pygments_lexer": "ipython3",
   "version": "3.10.9"
  }
 },
 "nbformat": 4,
 "nbformat_minor": 5
}
